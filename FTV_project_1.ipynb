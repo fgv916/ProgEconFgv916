{
  "cells": [
    {
      "cell_type": "markdown",
      "metadata": {
        "id": "o9y0Bl42nfMm"
      },
      "source": [
        "ProgEcon: Project 1\n",
        "\n",
        "Group: Nikolaj and Fanny"
      ]
    },
    {
      "cell_type": "code",
      "execution_count": 5,
      "metadata": {},
      "outputs": [],
      "source": [
        "import numpy as np\n",
        "import pandas as pd\n",
        "\n",
        "# APIs\n",
        "from fredapi import Fred\n",
        "from dstapi import DstApi\n",
        "\n",
        "# plotting\n",
        "import matplotlib.pyplot as plt\n",
        "colors = plt.rcParams['axes.prop_cycle'].by_key()['color']\n",
        "plt.rcParams.update({'axes.grid':True,'grid.color':'black','grid.alpha':'0.25','grid.linestyle':'--'})\n",
        "plt.rcParams.update({'font.size': 14})"
      ]
    },
    {
      "cell_type": "markdown",
      "metadata": {
        "id": "kto8FN15n57C"
      },
      "source": [
        "# 1. Aggregate inflation in Denmark"
      ]
    },
    {
      "cell_type": "markdown",
      "metadata": {},
      "source": [
        "## 1.1 Basic\n"
      ]
    },
    {
      "cell_type": "code",
      "execution_count": 6,
      "metadata": {},
      "outputs": [
        {
          "name": "stdout",
          "output_type": "stream",
          "text": [
            "Table PRIS113: Consumer price index by type and time\n",
            "Last update: 2025-10-10T08:00:00\n"
          ]
        },
        {
          "data": {
            "text/html": [
              "<div>\n",
              "<style scoped>\n",
              "    .dataframe tbody tr th:only-of-type {\n",
              "        vertical-align: middle;\n",
              "    }\n",
              "\n",
              "    .dataframe tbody tr th {\n",
              "        vertical-align: top;\n",
              "    }\n",
              "\n",
              "    .dataframe thead th {\n",
              "        text-align: right;\n",
              "    }\n",
              "</style>\n",
              "<table border=\"1\" class=\"dataframe\">\n",
              "  <thead>\n",
              "    <tr style=\"text-align: right;\">\n",
              "      <th></th>\n",
              "      <th>variable name</th>\n",
              "      <th># values</th>\n",
              "      <th>First value</th>\n",
              "      <th>First value label</th>\n",
              "      <th>Last value</th>\n",
              "      <th>Last value label</th>\n",
              "      <th>Time variable</th>\n",
              "    </tr>\n",
              "  </thead>\n",
              "  <tbody>\n",
              "    <tr>\n",
              "      <th>0</th>\n",
              "      <td>TYPE</td>\n",
              "      <td>1</td>\n",
              "      <td>INDEKS</td>\n",
              "      <td>Consumer price index</td>\n",
              "      <td>INDEKS</td>\n",
              "      <td>Consumer price index</td>\n",
              "      <td>False</td>\n",
              "    </tr>\n",
              "    <tr>\n",
              "      <th>1</th>\n",
              "      <td>Tid</td>\n",
              "      <td>549</td>\n",
              "      <td>1980M01</td>\n",
              "      <td>1980M01</td>\n",
              "      <td>2025M09</td>\n",
              "      <td>2025M09</td>\n",
              "      <td>True</td>\n",
              "    </tr>\n",
              "  </tbody>\n",
              "</table>\n",
              "</div>"
            ],
            "text/plain": [
              "  variable name  # values First value     First value label Last value  \\\n",
              "0          TYPE         1      INDEKS  Consumer price index     INDEKS   \n",
              "1           Tid       549     1980M01               1980M01    2025M09   \n",
              "\n",
              "       Last value label  Time variable  \n",
              "0  Consumer price index          False  \n",
              "1               2025M09           True  "
            ]
          },
          "execution_count": 6,
          "metadata": {},
          "output_type": "execute_result"
        }
      ],
      "source": [
        "PRIS113 = DstApi('PRIS113') \n",
        "PRIS113.tablesummary(language='en')\n"
      ]
    },
    {
      "cell_type": "markdown",
      "metadata": {
        "id": "d89724cc"
      },
      "source": [
        "## 1.2 Instantaneous\n",
        "$$\n",
        "\\begin{align*}\n",
        "\\pi_t^{12,\\alpha} &= \\left( \\prod_{k=0}^{11} (1 + \\pi_{t-k})^{\\kappa(k,\\alpha)} \\right) - 1, \\\\[6pt]\n",
        "\\kappa(k,\\alpha) &= \\frac{(T - k)^{\\alpha}}{\\sum (T - k)^{\\alpha} \\, }T\n",
        "\\end{align*}\n",
        "$$"
      ]
    },
    {
      "cell_type": "markdown",
      "metadata": {
        "id": "Cez5XyEiooj-"
      },
      "source": [
        "## 1.3 Core inflation"
      ]
    },
    {
      "cell_type": "markdown",
      "metadata": {
        "id": "r7VFmJF6oyGE"
      },
      "source": [
        "## 1.4 Disaggregated inflation in Denmark"
      ]
    },
    {
      "cell_type": "markdown",
      "metadata": {
        "id": "rmjUH54ZoK2Q"
      },
      "source": [
        "# 2. International Comparison"
      ]
    },
    {
      "cell_type": "markdown",
      "metadata": {
        "id": "71e2c62b"
      },
      "source": [
        "## 2.1 CPI vs HICP"
      ]
    },
    {
      "cell_type": "markdown",
      "metadata": {
        "id": "KyWOI_1Kpfcr"
      },
      "source": [
        "## 2.2 Across countries"
      ]
    },
    {
      "cell_type": "markdown",
      "metadata": {
        "id": "JnjXMS26pmFQ"
      },
      "source": [
        "# 3. Extension"
      ]
    }
  ],
  "metadata": {
    "colab": {
      "provenance": [],
      "toc_visible": true
    },
    "kernelspec": {
      "display_name": "base",
      "language": "python",
      "name": "python3"
    },
    "language_info": {
      "codemirror_mode": {
        "name": "ipython",
        "version": 3
      },
      "file_extension": ".py",
      "mimetype": "text/x-python",
      "name": "python",
      "nbconvert_exporter": "python",
      "pygments_lexer": "ipython3",
      "version": "3.13.5"
    }
  },
  "nbformat": 4,
  "nbformat_minor": 0
}

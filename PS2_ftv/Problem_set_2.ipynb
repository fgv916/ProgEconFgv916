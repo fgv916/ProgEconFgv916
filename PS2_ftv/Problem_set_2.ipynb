{
 "cells": [
  {
   "cell_type": "markdown",
   "metadata": {},
   "source": [
    "# Problem set 2: Descriptive economics"
   ]
  },
  {
   "cell_type": "markdown",
   "metadata": {},
   "source": [
    "**Learning goals:**\n",
    "\n",
    "- Using basic `pandas` DataFrame operations\n",
    "- Clean and structure data\n",
    "- Download real economic datasets using an API\n",
    "- Merge and join data sets\n",
    "- Compute summary statistics"
   ]
  },
  {
   "cell_type": "markdown",
   "metadata": {},
   "source": [
    "**Table of contents**<a id='toc0_'></a>    \n",
    "- 1. [Basic pandas](#toc1_)    \n",
    "  - 1.1. [Dataframe](#toc1_1_)    \n",
    "  - 1.2. [New variable](#toc1_2_)    \n",
    "  - 1.3. [Indexing](#toc1_3_)    \n",
    "  - 1.4. [Changing variables](#toc1_4_)    \n",
    "  - 1.5. [Dropping observations and columns](#toc1_5_)    \n",
    "  - 1.6. [Renaming](#toc1_6_)    \n",
    "  - 1.7. [Income distribution](#toc1_7_)    \n",
    "- 2. [National account identity](#toc2_)    \n",
    "  - 2.1. [Download](#toc2_1_)    \n",
    "  - 2.2. [Merge](#toc2_2_)    \n",
    "  - 2.3. [Split-apply-combine-plot](#toc2_3_)    \n",
    "\n",
    "<!-- vscode-jupyter-toc-config\n",
    "\tnumbering=true\n",
    "\tanchor=true\n",
    "\tflat=false\n",
    "\tminLevel=2\n",
    "\tmaxLevel=6\n",
    "\t/vscode-jupyter-toc-config -->\n",
    "<!-- THIS CELL WILL BE REPLACED ON TOC UPDATE. DO NOT WRITE YOUR TEXT IN THIS CELL -->"
   ]
  },
  {
   "cell_type": "code",
   "execution_count": 110,
   "metadata": {},
   "outputs": [],
   "source": [
    "import numpy as np\n",
    "import pandas as pd\n",
    "from IPython.display import display\n",
    "\n",
    "import matplotlib.pyplot as plt\n",
    "plt.rcParams.update({'axes.grid':True,'grid.color':'black','grid.alpha':'0.25','grid.linestyle':'--'})\n",
    "plt.rcParams.update({'font.size': 14})\n",
    "\n",
    "from dstapi import DstApi"
   ]
  },
  {
   "cell_type": "markdown",
   "metadata": {},
   "source": [
    "## 1. <a id='toc1_'></a>[Basic pandas](#toc0_)"
   ]
  },
  {
   "cell_type": "markdown",
   "metadata": {},
   "source": [
    "### 1.1. <a id='toc1_1_'></a>[Dataframe](#toc0_)"
   ]
  },
  {
   "cell_type": "markdown",
   "metadata": {},
   "source": [
    "Modify the code below such that *income* and *consumption* are variables in the *df* DataFrame."
   ]
  },
  {
   "cell_type": "code",
   "execution_count": 111,
   "metadata": {},
   "outputs": [
    {
     "data": {
      "text/html": [
       "<div>\n",
       "<style scoped>\n",
       "    .dataframe tbody tr th:only-of-type {\n",
       "        vertical-align: middle;\n",
       "    }\n",
       "\n",
       "    .dataframe tbody tr th {\n",
       "        vertical-align: top;\n",
       "    }\n",
       "\n",
       "    .dataframe thead th {\n",
       "        text-align: right;\n",
       "    }\n",
       "</style>\n",
       "<table border=\"1\" class=\"dataframe\">\n",
       "  <thead>\n",
       "    <tr style=\"text-align: right;\">\n",
       "      <th></th>\n",
       "      <th>id</th>\n",
       "      <th>income</th>\n",
       "      <th>consumption</th>\n",
       "    </tr>\n",
       "  </thead>\n",
       "  <tbody>\n",
       "    <tr>\n",
       "      <th>0</th>\n",
       "      <td>0</td>\n",
       "      <td>0.727981</td>\n",
       "      <td>0.853218</td>\n",
       "    </tr>\n",
       "    <tr>\n",
       "      <th>1</th>\n",
       "      <td>1</td>\n",
       "      <td>1.997831</td>\n",
       "      <td>1.413447</td>\n",
       "    </tr>\n",
       "    <tr>\n",
       "      <th>2</th>\n",
       "      <td>2</td>\n",
       "      <td>0.276823</td>\n",
       "      <td>0.526140</td>\n",
       "    </tr>\n",
       "    <tr>\n",
       "      <th>3</th>\n",
       "      <td>3</td>\n",
       "      <td>1.481931</td>\n",
       "      <td>1.217346</td>\n",
       "    </tr>\n",
       "    <tr>\n",
       "      <th>4</th>\n",
       "      <td>4</td>\n",
       "      <td>1.235904</td>\n",
       "      <td>1.111712</td>\n",
       "    </tr>\n",
       "  </tbody>\n",
       "</table>\n",
       "</div>"
      ],
      "text/plain": [
       "   id    income  consumption\n",
       "0   0  0.727981     0.853218\n",
       "1   1  1.997831     1.413447\n",
       "2   2  0.276823     0.526140\n",
       "3   3  1.481931     1.217346\n",
       "4   4  1.235904     1.111712"
      ]
     },
     "execution_count": 111,
     "metadata": {},
     "output_type": "execute_result"
    }
   ],
   "source": [
    "\n",
    "np.random.seed(1999)\n",
    "\n",
    "N = 100\n",
    "mydata = {}\n",
    "mydata['id'] = range(N)\n",
    "mydata['income'] = np.exp(np.random.normal(size=N))\n",
    "mydata['consumption'] = np.sqrt(mydata['income'])\n",
    "\n",
    "df = pd.DataFrame(mydata)\n",
    "df.head(5) #toppen af listen \n",
    "#df.tail(3) #bunden af listen "
   ]
  },
  {
   "cell_type": "code",
   "execution_count": 112,
   "metadata": {},
   "outputs": [
    {
     "data": {
      "text/html": [
       "<div>\n",
       "<style scoped>\n",
       "    .dataframe tbody tr th:only-of-type {\n",
       "        vertical-align: middle;\n",
       "    }\n",
       "\n",
       "    .dataframe tbody tr th {\n",
       "        vertical-align: top;\n",
       "    }\n",
       "\n",
       "    .dataframe thead th {\n",
       "        text-align: right;\n",
       "    }\n",
       "</style>\n",
       "<table border=\"1\" class=\"dataframe\">\n",
       "  <thead>\n",
       "    <tr style=\"text-align: right;\">\n",
       "      <th></th>\n",
       "      <th>id</th>\n",
       "      <th>income</th>\n",
       "      <th>consumption</th>\n",
       "    </tr>\n",
       "  </thead>\n",
       "  <tbody>\n",
       "    <tr>\n",
       "      <th>0</th>\n",
       "      <td>0</td>\n",
       "      <td>0.727981</td>\n",
       "      <td>0.853218</td>\n",
       "    </tr>\n",
       "    <tr>\n",
       "      <th>1</th>\n",
       "      <td>1</td>\n",
       "      <td>1.997831</td>\n",
       "      <td>1.413447</td>\n",
       "    </tr>\n",
       "    <tr>\n",
       "      <th>2</th>\n",
       "      <td>2</td>\n",
       "      <td>0.276823</td>\n",
       "      <td>0.526140</td>\n",
       "    </tr>\n",
       "    <tr>\n",
       "      <th>3</th>\n",
       "      <td>3</td>\n",
       "      <td>1.481931</td>\n",
       "      <td>1.217346</td>\n",
       "    </tr>\n",
       "    <tr>\n",
       "      <th>4</th>\n",
       "      <td>4</td>\n",
       "      <td>1.235904</td>\n",
       "      <td>1.111712</td>\n",
       "    </tr>\n",
       "    <tr>\n",
       "      <th>...</th>\n",
       "      <td>...</td>\n",
       "      <td>...</td>\n",
       "      <td>...</td>\n",
       "    </tr>\n",
       "    <tr>\n",
       "      <th>95</th>\n",
       "      <td>95</td>\n",
       "      <td>0.201856</td>\n",
       "      <td>0.449284</td>\n",
       "    </tr>\n",
       "    <tr>\n",
       "      <th>96</th>\n",
       "      <td>96</td>\n",
       "      <td>2.368034</td>\n",
       "      <td>1.538842</td>\n",
       "    </tr>\n",
       "    <tr>\n",
       "      <th>97</th>\n",
       "      <td>97</td>\n",
       "      <td>2.389874</td>\n",
       "      <td>1.545922</td>\n",
       "    </tr>\n",
       "    <tr>\n",
       "      <th>98</th>\n",
       "      <td>98</td>\n",
       "      <td>1.488635</td>\n",
       "      <td>1.220096</td>\n",
       "    </tr>\n",
       "    <tr>\n",
       "      <th>99</th>\n",
       "      <td>99</td>\n",
       "      <td>0.360234</td>\n",
       "      <td>0.600195</td>\n",
       "    </tr>\n",
       "  </tbody>\n",
       "</table>\n",
       "<p>100 rows × 3 columns</p>\n",
       "</div>"
      ],
      "text/plain": [
       "    id    income  consumption\n",
       "0    0  0.727981     0.853218\n",
       "1    1  1.997831     1.413447\n",
       "2    2  0.276823     0.526140\n",
       "3    3  1.481931     1.217346\n",
       "4    4  1.235904     1.111712\n",
       "..  ..       ...          ...\n",
       "95  95  0.201856     0.449284\n",
       "96  96  2.368034     1.538842\n",
       "97  97  2.389874     1.545922\n",
       "98  98  1.488635     1.220096\n",
       "99  99  0.360234     0.600195\n",
       "\n",
       "[100 rows x 3 columns]"
      ]
     },
     "metadata": {},
     "output_type": "display_data"
    }
   ],
   "source": [
    "display(df)"
   ]
  },
  {
   "cell_type": "markdown",
   "metadata": {},
   "source": [
    "### 1.2. <a id='toc1_2_'></a>[New variable](#toc0_)"
   ]
  },
  {
   "cell_type": "markdown",
   "metadata": {},
   "source": [
    "Create a new variable *ratio* which is the ratio of consumption to income."
   ]
  },
  {
   "cell_type": "code",
   "execution_count": 113,
   "metadata": {},
   "outputs": [
    {
     "data": {
      "text/html": [
       "<div>\n",
       "<style scoped>\n",
       "    .dataframe tbody tr th:only-of-type {\n",
       "        vertical-align: middle;\n",
       "    }\n",
       "\n",
       "    .dataframe tbody tr th {\n",
       "        vertical-align: top;\n",
       "    }\n",
       "\n",
       "    .dataframe thead th {\n",
       "        text-align: right;\n",
       "    }\n",
       "</style>\n",
       "<table border=\"1\" class=\"dataframe\">\n",
       "  <thead>\n",
       "    <tr style=\"text-align: right;\">\n",
       "      <th></th>\n",
       "      <th>id</th>\n",
       "      <th>income</th>\n",
       "      <th>consumption</th>\n",
       "      <th>ratio</th>\n",
       "    </tr>\n",
       "  </thead>\n",
       "  <tbody>\n",
       "    <tr>\n",
       "      <th>0</th>\n",
       "      <td>0</td>\n",
       "      <td>0.727981</td>\n",
       "      <td>0.853218</td>\n",
       "      <td>1.172033</td>\n",
       "    </tr>\n",
       "    <tr>\n",
       "      <th>1</th>\n",
       "      <td>1</td>\n",
       "      <td>1.997831</td>\n",
       "      <td>1.413447</td>\n",
       "      <td>0.707490</td>\n",
       "    </tr>\n",
       "    <tr>\n",
       "      <th>2</th>\n",
       "      <td>2</td>\n",
       "      <td>0.276823</td>\n",
       "      <td>0.526140</td>\n",
       "      <td>1.900636</td>\n",
       "    </tr>\n",
       "    <tr>\n",
       "      <th>3</th>\n",
       "      <td>3</td>\n",
       "      <td>1.481931</td>\n",
       "      <td>1.217346</td>\n",
       "      <td>0.821459</td>\n",
       "    </tr>\n",
       "    <tr>\n",
       "      <th>4</th>\n",
       "      <td>4</td>\n",
       "      <td>1.235904</td>\n",
       "      <td>1.111712</td>\n",
       "      <td>0.899513</td>\n",
       "    </tr>\n",
       "  </tbody>\n",
       "</table>\n",
       "</div>"
      ],
      "text/plain": [
       "   id    income  consumption     ratio\n",
       "0   0  0.727981     0.853218  1.172033\n",
       "1   1  1.997831     1.413447  0.707490\n",
       "2   2  0.276823     0.526140  1.900636\n",
       "3   3  1.481931     1.217346  0.821459\n",
       "4   4  1.235904     1.111712  0.899513"
      ]
     },
     "execution_count": 113,
     "metadata": {},
     "output_type": "execute_result"
    }
   ],
   "source": [
    "# write your code here\n",
    "\n",
    "df['ratio'] = df['consumption']/df['income'] #tilføjer den nye variable\n",
    "df.head(5) #printer først rækker \n"
   ]
  },
  {
   "cell_type": "markdown",
   "metadata": {},
   "source": [
    "### 1.3. <a id='toc1_3_'></a>[Indexing](#toc0_)"
   ]
  },
  {
   "cell_type": "markdown",
   "metadata": {},
   "source": [
    "**Question a:** Select everybody: with an income above 1."
   ]
  },
  {
   "cell_type": "code",
   "execution_count": 114,
   "metadata": {},
   "outputs": [
    {
     "data": {
      "text/html": [
       "<div>\n",
       "<style scoped>\n",
       "    .dataframe tbody tr th:only-of-type {\n",
       "        vertical-align: middle;\n",
       "    }\n",
       "\n",
       "    .dataframe tbody tr th {\n",
       "        vertical-align: top;\n",
       "    }\n",
       "\n",
       "    .dataframe thead th {\n",
       "        text-align: right;\n",
       "    }\n",
       "</style>\n",
       "<table border=\"1\" class=\"dataframe\">\n",
       "  <thead>\n",
       "    <tr style=\"text-align: right;\">\n",
       "      <th></th>\n",
       "      <th>id</th>\n",
       "      <th>income</th>\n",
       "      <th>consumption</th>\n",
       "      <th>ratio</th>\n",
       "    </tr>\n",
       "  </thead>\n",
       "  <tbody>\n",
       "    <tr>\n",
       "      <th>1</th>\n",
       "      <td>1</td>\n",
       "      <td>1.997831</td>\n",
       "      <td>1.413447</td>\n",
       "      <td>0.707490</td>\n",
       "    </tr>\n",
       "    <tr>\n",
       "      <th>3</th>\n",
       "      <td>3</td>\n",
       "      <td>1.481931</td>\n",
       "      <td>1.217346</td>\n",
       "      <td>0.821459</td>\n",
       "    </tr>\n",
       "    <tr>\n",
       "      <th>4</th>\n",
       "      <td>4</td>\n",
       "      <td>1.235904</td>\n",
       "      <td>1.111712</td>\n",
       "      <td>0.899513</td>\n",
       "    </tr>\n",
       "    <tr>\n",
       "      <th>6</th>\n",
       "      <td>6</td>\n",
       "      <td>2.574032</td>\n",
       "      <td>1.604379</td>\n",
       "      <td>0.623294</td>\n",
       "    </tr>\n",
       "    <tr>\n",
       "      <th>7</th>\n",
       "      <td>7</td>\n",
       "      <td>2.475478</td>\n",
       "      <td>1.573365</td>\n",
       "      <td>0.635580</td>\n",
       "    </tr>\n",
       "  </tbody>\n",
       "</table>\n",
       "</div>"
      ],
      "text/plain": [
       "   id    income  consumption     ratio\n",
       "1   1  1.997831     1.413447  0.707490\n",
       "3   3  1.481931     1.217346  0.821459\n",
       "4   4  1.235904     1.111712  0.899513\n",
       "6   6  2.574032     1.604379  0.623294\n",
       "7   7  2.475478     1.573365  0.635580"
      ]
     },
     "execution_count": 114,
     "metadata": {},
     "output_type": "execute_result"
    }
   ],
   "source": [
    "# write your code here\n",
    "df[df['income']>1].head()"
   ]
  },
  {
   "cell_type": "markdown",
   "metadata": {},
   "source": [
    "**Question b:** Select everybody with an income *above* 1 and a ratio *above* 0.7."
   ]
  },
  {
   "cell_type": "code",
   "execution_count": 115,
   "metadata": {},
   "outputs": [
    {
     "data": {
      "text/html": [
       "<div>\n",
       "<style scoped>\n",
       "    .dataframe tbody tr th:only-of-type {\n",
       "        vertical-align: middle;\n",
       "    }\n",
       "\n",
       "    .dataframe tbody tr th {\n",
       "        vertical-align: top;\n",
       "    }\n",
       "\n",
       "    .dataframe thead th {\n",
       "        text-align: right;\n",
       "    }\n",
       "</style>\n",
       "<table border=\"1\" class=\"dataframe\">\n",
       "  <thead>\n",
       "    <tr style=\"text-align: right;\">\n",
       "      <th></th>\n",
       "      <th>id</th>\n",
       "      <th>income</th>\n",
       "      <th>consumption</th>\n",
       "      <th>ratio</th>\n",
       "    </tr>\n",
       "  </thead>\n",
       "  <tbody>\n",
       "    <tr>\n",
       "      <th>1</th>\n",
       "      <td>1</td>\n",
       "      <td>1.997831</td>\n",
       "      <td>1.413447</td>\n",
       "      <td>0.707490</td>\n",
       "    </tr>\n",
       "    <tr>\n",
       "      <th>3</th>\n",
       "      <td>3</td>\n",
       "      <td>1.481931</td>\n",
       "      <td>1.217346</td>\n",
       "      <td>0.821459</td>\n",
       "    </tr>\n",
       "    <tr>\n",
       "      <th>4</th>\n",
       "      <td>4</td>\n",
       "      <td>1.235904</td>\n",
       "      <td>1.111712</td>\n",
       "      <td>0.899513</td>\n",
       "    </tr>\n",
       "    <tr>\n",
       "      <th>11</th>\n",
       "      <td>11</td>\n",
       "      <td>2.031708</td>\n",
       "      <td>1.425380</td>\n",
       "      <td>0.701567</td>\n",
       "    </tr>\n",
       "    <tr>\n",
       "      <th>18</th>\n",
       "      <td>18</td>\n",
       "      <td>1.280235</td>\n",
       "      <td>1.131475</td>\n",
       "      <td>0.883802</td>\n",
       "    </tr>\n",
       "  </tbody>\n",
       "</table>\n",
       "</div>"
      ],
      "text/plain": [
       "    id    income  consumption     ratio\n",
       "1    1  1.997831     1.413447  0.707490\n",
       "3    3  1.481931     1.217346  0.821459\n",
       "4    4  1.235904     1.111712  0.899513\n",
       "11  11  2.031708     1.425380  0.701567\n",
       "18  18  1.280235     1.131475  0.883802"
      ]
     },
     "execution_count": 115,
     "metadata": {},
     "output_type": "execute_result"
    }
   ],
   "source": [
    "# write your code here\n",
    "df[(df['income']>1) & (df['ratio']>0.7)].head()"
   ]
  },
  {
   "cell_type": "markdown",
   "metadata": {},
   "source": [
    "### 1.4. <a id='toc1_4_'></a>[Changing variables](#toc0_)"
   ]
  },
  {
   "cell_type": "markdown",
   "metadata": {},
   "source": [
    "**Question a:** Set consumption equal to 0.5 if income is less than 0.5."
   ]
  },
  {
   "cell_type": "code",
   "execution_count": 116,
   "metadata": {},
   "outputs": [
    {
     "data": {
      "text/plain": [
       "np.float64(1.075479712048503)"
      ]
     },
     "execution_count": 116,
     "metadata": {},
     "output_type": "execute_result"
    }
   ],
   "source": [
    "# write your code here\n",
    "df.loc[df['income'] < 0.5, 'consumption'] = 0.5\n",
    "df['consumption'].mean() # <- compare with answer"
   ]
  },
  {
   "cell_type": "markdown",
   "metadata": {},
   "source": [
    "**Question b:** Set consumption equal to income if income is less than 0.5."
   ]
  },
  {
   "cell_type": "code",
   "execution_count": 117,
   "metadata": {},
   "outputs": [
    {
     "data": {
      "text/plain": [
       "np.float64(1.0337728690050054)"
      ]
     },
     "execution_count": 117,
     "metadata": {},
     "output_type": "execute_result"
    }
   ],
   "source": [
    "# write your code here\n",
    "df.loc[df['income'] < 0.5, 'consumption'] = df.loc[df['income'] < 0.5, 'income']\n",
    "df['consumption'].mean() # <- compare with answer"
   ]
  },
  {
   "cell_type": "markdown",
   "metadata": {},
   "source": [
    "### 1.5. <a id='toc1_5_'></a>[Dropping observations and columns](#toc0_)"
   ]
  },
  {
   "cell_type": "markdown",
   "metadata": {},
   "source": [
    "Drop the *ratio* variable and all rows with an income above 1.5. After this, also drop the first 5 rows."
   ]
  },
  {
   "cell_type": "code",
   "execution_count": 118,
   "metadata": {},
   "outputs": [
    {
     "name": "stdout",
     "output_type": "stream",
     "text": [
      "before: 100 observations, 4 variables\n",
      "after: 65 observations, 3 variables\n"
     ]
    }
   ],
   "source": [
    "print(f'before: {df.shape[0]} observations, {df.shape[1]} variables')\n",
    "\n",
    "df = df.drop(columns=['ratio']) #dropper ratio kolonnen \n",
    "df = df[df['income'] <= 1.5] # dropper rækker med høj indkomst\n",
    "df = df.iloc[5:] # dropper de første rækker\n",
    "\n",
    "print(f'after: {df.shape[0]} observations, {df.shape[1]} variables')"
   ]
  },
  {
   "cell_type": "markdown",
   "metadata": {},
   "source": [
    "### 1.6. <a id='toc1_6_'></a>[Renaming](#toc0_)"
   ]
  },
  {
   "cell_type": "markdown",
   "metadata": {},
   "source": [
    "Rename *consumption* to *cons* and *income* to *inc*."
   ]
  },
  {
   "cell_type": "code",
   "execution_count": 119,
   "metadata": {},
   "outputs": [
    {
     "data": {
      "text/html": [
       "<div>\n",
       "<style scoped>\n",
       "    .dataframe tbody tr th:only-of-type {\n",
       "        vertical-align: middle;\n",
       "    }\n",
       "\n",
       "    .dataframe tbody tr th {\n",
       "        vertical-align: top;\n",
       "    }\n",
       "\n",
       "    .dataframe thead th {\n",
       "        text-align: right;\n",
       "    }\n",
       "</style>\n",
       "<table border=\"1\" class=\"dataframe\">\n",
       "  <thead>\n",
       "    <tr style=\"text-align: right;\">\n",
       "      <th></th>\n",
       "      <th>id</th>\n",
       "      <th>inc</th>\n",
       "      <th>cons</th>\n",
       "    </tr>\n",
       "  </thead>\n",
       "  <tbody>\n",
       "    <tr>\n",
       "      <th>8</th>\n",
       "      <td>8</td>\n",
       "      <td>0.582074</td>\n",
       "      <td>0.762938</td>\n",
       "    </tr>\n",
       "    <tr>\n",
       "      <th>10</th>\n",
       "      <td>10</td>\n",
       "      <td>0.932044</td>\n",
       "      <td>0.965424</td>\n",
       "    </tr>\n",
       "    <tr>\n",
       "      <th>12</th>\n",
       "      <td>12</td>\n",
       "      <td>0.356952</td>\n",
       "      <td>0.356952</td>\n",
       "    </tr>\n",
       "    <tr>\n",
       "      <th>13</th>\n",
       "      <td>13</td>\n",
       "      <td>0.379825</td>\n",
       "      <td>0.379825</td>\n",
       "    </tr>\n",
       "    <tr>\n",
       "      <th>16</th>\n",
       "      <td>16</td>\n",
       "      <td>0.700896</td>\n",
       "      <td>0.837195</td>\n",
       "    </tr>\n",
       "  </tbody>\n",
       "</table>\n",
       "</div>"
      ],
      "text/plain": [
       "    id       inc      cons\n",
       "8    8  0.582074  0.762938\n",
       "10  10  0.932044  0.965424\n",
       "12  12  0.356952  0.356952\n",
       "13  13  0.379825  0.379825\n",
       "16  16  0.700896  0.837195"
      ]
     },
     "execution_count": 119,
     "metadata": {},
     "output_type": "execute_result"
    }
   ],
   "source": [
    "df = df.rename(columns={'consumption': 'cons', 'income' : 'inc'})\n",
    "df.head()"
   ]
  },
  {
   "cell_type": "code",
   "execution_count": 120,
   "metadata": {},
   "outputs": [
    {
     "data": {
      "text/html": [
       "<div>\n",
       "<style scoped>\n",
       "    .dataframe tbody tr th:only-of-type {\n",
       "        vertical-align: middle;\n",
       "    }\n",
       "\n",
       "    .dataframe tbody tr th {\n",
       "        vertical-align: top;\n",
       "    }\n",
       "\n",
       "    .dataframe thead th {\n",
       "        text-align: right;\n",
       "    }\n",
       "</style>\n",
       "<table border=\"1\" class=\"dataframe\">\n",
       "  <thead>\n",
       "    <tr style=\"text-align: right;\">\n",
       "      <th></th>\n",
       "      <th>id</th>\n",
       "      <th>inc</th>\n",
       "      <th>con</th>\n",
       "    </tr>\n",
       "  </thead>\n",
       "  <tbody>\n",
       "    <tr>\n",
       "      <th>0</th>\n",
       "      <td>0</td>\n",
       "      <td>0.599145</td>\n",
       "      <td>0.774044</td>\n",
       "    </tr>\n",
       "    <tr>\n",
       "      <th>1</th>\n",
       "      <td>1</td>\n",
       "      <td>0.469167</td>\n",
       "      <td>0.684957</td>\n",
       "    </tr>\n",
       "    <tr>\n",
       "      <th>2</th>\n",
       "      <td>2</td>\n",
       "      <td>1.435292</td>\n",
       "      <td>1.198037</td>\n",
       "    </tr>\n",
       "    <tr>\n",
       "      <th>3</th>\n",
       "      <td>3</td>\n",
       "      <td>2.504716</td>\n",
       "      <td>1.582629</td>\n",
       "    </tr>\n",
       "    <tr>\n",
       "      <th>4</th>\n",
       "      <td>4</td>\n",
       "      <td>0.156667</td>\n",
       "      <td>0.395811</td>\n",
       "    </tr>\n",
       "  </tbody>\n",
       "</table>\n",
       "</div>"
      ],
      "text/plain": [
       "   id       inc       con\n",
       "0   0  0.599145  0.774044\n",
       "1   1  0.469167  0.684957\n",
       "2   2  1.435292  1.198037\n",
       "3   3  2.504716  1.582629\n",
       "4   4  0.156667  0.395811"
      ]
     },
     "execution_count": 120,
     "metadata": {},
     "output_type": "execute_result"
    }
   ],
   "source": [
    "N = 100\n",
    "mydata = {}\n",
    "mydata['id'] = range(N)\n",
    "mydata['income'] = np.exp(np.random.normal(size=N))\n",
    "mydata['consumption'] = np.sqrt(mydata['income'])\n",
    "\n",
    "df_true = pd.DataFrame(mydata)\n",
    "\n",
    "df_true = df_true.rename(columns={'income':'inc','consumption':'con'})\n",
    "df_true.head()"
   ]
  },
  {
   "cell_type": "markdown",
   "metadata": {},
   "source": [
    "### 1.7. <a id='toc1_7_'></a>[Income distribution](#toc0_)"
   ]
  },
  {
   "cell_type": "markdown",
   "metadata": {},
   "source": [
    "Compute the share of income for each decile of the income distribution using the code below as a starting point."
   ]
  },
  {
   "cell_type": "code",
   "execution_count": 121,
   "metadata": {},
   "outputs": [
    {
     "data": {
      "text/plain": [
       "decile\n",
       "D1     0.024775\n",
       "D2     0.039289\n",
       "D3     0.061514\n",
       "D4     0.063729\n",
       "D5     0.089852\n",
       "D6     0.098559\n",
       "D7     0.114818\n",
       "D8     0.148799\n",
       "D9     0.149963\n",
       "D10    0.208702\n",
       "Name: inc, dtype: float64"
      ]
     },
     "metadata": {},
     "output_type": "display_data"
    },
    {
     "data": {
      "text/plain": [
       "quartile\n",
       "Q1    0.097963\n",
       "Q2    0.181196\n",
       "Q3    0.294268\n",
       "Q4    0.426573\n",
       "Name: inc, dtype: float64"
      ]
     },
     "metadata": {},
     "output_type": "display_data"
    }
   ],
   "source": [
    "\n",
    "\n",
    "deciles = df['inc'].quantile([0.1, 0.2, 0.3, 0.4, 0.5, 0.6, 0.7, 0.8, 0.9]) #opretter deciler\n",
    "\n",
    "\n",
    "bins = [-np.inf] + deciles.tolist() + [np.inf] #liste over grænser for indkomstintervallerne, som starter i minus uendelig til uendelig \n",
    "labels = [f'D{i}' for i in range(1, 11)] #navngivningen \n",
    "\n",
    "df['decile'] = pd.cut(\n",
    "    df['inc'],\n",
    "    bins=bins,\n",
    "    labels=labels,\n",
    ")\n",
    "\n",
    "income_shares = df.groupby('decile', observed=True)['inc'].sum() / df['inc'].sum()\n",
    "display(income_shares)\n",
    "\n",
    "quartile = df['inc'].quantile([0.25, 0.5, 0.75])\n",
    "\n",
    "bins = [-np.inf] + quartile.tolist() + [np.inf] #liste over grænser for indkomstintervallerne \n",
    "labels = [f'Q{i}' for i in range(1, 5)] #navngivningen \n",
    "\n",
    "df['quartile'] = pd.cut(\n",
    "    df['inc'],\n",
    "    bins=bins,\n",
    "    labels=labels,\n",
    ")\n",
    "\n",
    "income_shares_v2 = df.groupby('quartile', observed=True)['inc'].sum() / df['inc'].sum()\n",
    "display(income_shares_v2)\n",
    "\n",
    "# fra Jeppes kode: deciles = df_true.quantile([0.1 * i for i in range(1, 10)])"
   ]
  },
  {
   "cell_type": "code",
   "execution_count": 126,
   "metadata": {},
   "outputs": [
    {
     "data": {
      "image/png": "[encoded data removed]",
      "text/plain": [
       "<Figure size 640x480 with 1 Axes>"
      ]
     },
     "metadata": {},
     "output_type": "display_data"
    }
   ],
   "source": [
    "#laver histogrammer \n",
    "import matplotlib.pyplot as plt\n",
    "\n",
    "income_shares_v2.plot(kind='bar', color='pink', edgecolor='black')\n",
    "\n",
    "plt.xticks(rotation=0)\n",
    "plt.grid(axis='y', linestyle='--', alpha=0.7)\n",
    "\n",
    "plt.show()"
   ]
  },
  {
   "cell_type": "markdown",
   "metadata": {},
   "source": [
    "## 2. <a id='toc2_'></a>[National account identity](#toc0_)"
   ]
  },
  {
   "cell_type": "markdown",
   "metadata": {},
   "source": [
    "### 2.1. <a id='toc2_1_'></a>[Download](#toc0_)"
   ]
  },
  {
   "cell_type": "markdown",
   "metadata": {},
   "source": [
    "Consider the following dictionary definitions:"
   ]
  },
  {
   "cell_type": "code",
   "execution_count": null,
   "metadata": {},
   "outputs": [],
   "source": [
    "columns_dict = {}\n",
    "columns_dict['TRANSAKT'] = 'variable'\n",
    "columns_dict['PRISENHED'] = 'unit'\n",
    "columns_dict['TID'] = 'year'\n",
    "columns_dict['INDHOLD'] = 'value'\n",
    "\n",
    "var_dict = {} # var is for variable\n",
    "var_dict['P.1 Output'] = 'Y'\n",
    "var_dict['P.3 Final consumption expenditure'] = 'C'\n",
    "var_dict['P.3 Government consumption expenditure'] = 'G'\n",
    "var_dict['P.5 Gross capital formation'] = 'I'\n",
    "var_dict['P.6 Export of goods and services'] = 'X'\n",
    "var_dict['P.7 Import of goods and services'] = 'M'\n",
    "\n",
    "unit_dict = {}\n",
    "unit_dict['2020-prices, chained values'] = 'real'\n",
    "unit_dict['Current prices'] = 'nominal'"
   ]
  },
  {
   "cell_type": "markdown",
   "metadata": {},
   "source": [
    "**Step 1:** Download all of table `nah1`."
   ]
  },
  {
   "cell_type": "code",
   "execution_count": null,
   "metadata": {},
   "outputs": [],
   "source": [
    "nah1_api = DstApi('nah1') #navn på tablen vi henter\n",
    "params = nah1_api._define_base_params(language='en') #sprog engelsk \n",
    "display(params)\n",
    "nah1 = nah1_api.get_data(params=params)"
   ]
  },
  {
   "cell_type": "code",
   "execution_count": null,
   "metadata": {},
   "outputs": [],
   "source": [
    "nah1_api.tablesummary(language='en')"
   ]
  },
  {
   "cell_type": "markdown",
   "metadata": {},
   "source": [
    "**Step 2:** Rename the columns using `columns_dict` and replace data using `var_dict` and `unit_dict`."
   ]
  },
  {
   "cell_type": "code",
   "execution_count": null,
   "metadata": {},
   "outputs": [],
   "source": [
    "#xx_dict er navne fra ordbogen i tidligere kode\n",
    "\n",
    "nah1 = nah1.rename(columns=columns_dict)\n",
    "\n",
    "#loop der ændre navn til økonomiske symboler Y, G, I, X, M eller real og nomiel (ser ordbog) \n",
    "for key,value in var_dict.items(): \n",
    "   nah1.variable = nah1.variable.replace(key, value)\n",
    "\n",
    "for key,value in unit_dict.items():\n",
    "   nah1.unit = nah1.unit.replace(key,value)"
   ]
  },
  {
   "cell_type": "markdown",
   "metadata": {},
   "source": [
    "**Step 3:** Only keep rows where the variable is in `[Y, C, G, I, X, M]`. Afterwards convert the `value` column to a float."
   ]
  },
  {
   "cell_type": "code",
   "execution_count": null,
   "metadata": {},
   "outputs": [],
   "source": [
    "# 1. Behold kun rækker med relevante variable\n",
    "nah1 = nah1[nah1['variable'].isin(['Y', 'C', 'G', 'I', 'X', 'M'])]\n",
    "\n",
    "# 2. Konvertér 'value'-kolonnen til float\n",
    "nah1['value'] = nah1['value'].astype(float)\n"
   ]
  },
  {
   "cell_type": "markdown",
   "metadata": {},
   "source": [
    "**Step 4:** Discuss what the following summary statistics show."
   ]
  },
  {
   "cell_type": "code",
   "execution_count": null,
   "metadata": {},
   "outputs": [],
   "source": [
    " nah1.groupby(['variable','unit']).describe()"
   ]
  },
  {
   "cell_type": "markdown",
   "metadata": {},
   "source": [
    "**Step 5:** Sort the dataset by year"
   ]
  },
  {
   "cell_type": "code",
   "execution_count": null,
   "metadata": {},
   "outputs": [],
   "source": [
    "nah1 = nah1.sort_values(by='year')\n",
    "nah1.head(20)\n"
   ]
  },
  {
   "cell_type": "markdown",
   "metadata": {},
   "source": [
    "### 2.2. <a id='toc2_2_'></a>[Merge](#toc0_)"
   ]
  },
  {
   "cell_type": "markdown",
   "metadata": {},
   "source": [
    "Load population data from Denmark Statistics:"
   ]
  },
  {
   "cell_type": "code",
   "execution_count": null,
   "metadata": {},
   "outputs": [],
   "source": [
    "BEFOLK1_api = DstApi('BEFOLK1')\n",
    "params = BEFOLK1_api._define_base_params(language='en')\n",
    "display(params)"
   ]
  },
  {
   "cell_type": "code",
   "execution_count": null,
   "metadata": {},
   "outputs": [],
   "source": [
    "for code in ['KØN','CIVILSTAND']:\n",
    "    print(code)\n",
    "    display(BEFOLK1_api.variable_levels(code,language='en'))\n",
    "    print('')"
   ]
  },
  {
   "cell_type": "code",
   "execution_count": null,
   "metadata": {},
   "outputs": [],
   "source": [
    "params['variables'][0]['values'] = ['TOT'] \n",
    "params['variables'][2]['values'] = ['TOT'] \n",
    "BEFOLK1 = BEFOLK1_api.get_data(params=params)\n",
    "display(BEFOLK1.head())"
   ]
  },
  {
   "cell_type": "code",
   "execution_count": null,
   "metadata": {},
   "outputs": [],
   "source": [
    "BEFOLK1 = BEFOLK1.rename(columns={'TID':'year','INDHOLD':'population'})\n",
    "BEFOLK1 = BEFOLK1.drop(columns=['KØN','CIVILSTAND'])\n",
    "pop = BEFOLK1[BEFOLK1.ALDER == 'Age, total'].drop(columns=['ALDER'])\n",
    "pop.head()"
   ]
  },
  {
   "cell_type": "markdown",
   "metadata": {},
   "source": [
    "**Question a:** Merge the population and the national account data, so there is a new column called `population`. Use the **merge function**."
   ]
  },
  {
   "cell_type": "code",
   "execution_count": null,
   "metadata": {},
   "outputs": [],
   "source": [
    "merged = pd.merge(nah1, pop,how='left',on=['year'])\n",
    "merged.tail(10)"
   ]
  },
  {
   "cell_type": "markdown",
   "metadata": {},
   "source": [
    "**Question b:** Merge the population on again, so there is a new column called `population_alt`. Use the **join method**."
   ]
  },
  {
   "cell_type": "code",
   "execution_count": null,
   "metadata": {},
   "outputs": [],
   "source": [
    "pop_with_index = pop.set_index('year')\n",
    "pop_with_index = pop_with_index.rename(columns={'population':'population_alt'})\n",
    "\n",
    "\n",
    "merged_with_index = merged.set_index('year')\n",
    "merged_alt = merged_with_index.join(pop_with_index)\n",
    "merged_alt.tail(10)"
   ]
  },
  {
   "cell_type": "markdown",
   "metadata": {},
   "source": [
    "**Question c:** Plot GDP per capita and GDP per working-age (18-65) using the code below as a starting point."
   ]
  },
  {
   "cell_type": "code",
   "execution_count": null,
   "metadata": {},
   "outputs": [
    {
     "name": "stdout",
     "output_type": "stream",
     "text": [
      "      working_population\n",
      "year                    \n",
      "1971             3015508\n",
      "1972             3026994\n",
      "1973             3043972\n",
      "1974             3060839\n",
      "1975             3070276\n",
      "1976             3070122\n",
      "1977             3079737\n",
      "1978             3091005\n",
      "1979             3103580\n",
      "1980             3117102\n",
      "1981             3128007\n",
      "1982             3145443\n",
      "1983             3165171\n",
      "1984             3188609\n",
      "1985             3215660\n",
      "1986             3242261\n",
      "1987             3255545\n",
      "1988             3263765\n",
      "1989             3271585\n",
      "1990             3284670\n",
      "1991             3302233\n",
      "1992             3319692\n",
      "1993             3338244\n",
      "1994             3359739\n",
      "1995             3373336\n",
      "1996             3397013\n",
      "1997             3413505\n",
      "1998             3425636\n",
      "1999             3434989\n",
      "2000             3440342\n",
      "2001             3443533\n",
      "2002             3445683\n",
      "2003             3446069\n",
      "2004             3445821\n",
      "2005             3445210\n",
      "2006             3447936\n",
      "2007             3453776\n",
      "2008             3469123\n",
      "2009             3484159\n",
      "2010             3487211\n",
      "2011             3490188\n",
      "2012             3486982\n",
      "2013             3486826\n",
      "2014             3492878\n",
      "2015             3504872\n",
      "2016             3531761\n",
      "2017             3549649\n",
      "2018             3564815\n",
      "2019             3576038\n",
      "2020             3575843\n",
      "2021             3577220\n",
      "2022             3593874\n",
      "2023             3630706\n",
      "2024             3649206\n",
      "2025             3669301\n"
     ]
    }
   ],
   "source": [
    "ages = [f'{age} years' for age in range(18,66)] #både 18 og 65 er med \n",
    "\n",
    "working_pop = BEFOLK1[BEFOLK1.ALDER.isin(ages)].groupby('year').sum() #kun rækker for personer i alderen 18–65 år.\n",
    "working_pop = working_pop.drop(columns=['ALDER'])\n",
    "working_pop = working_pop.rename(columns={'population':'working_population'})\n",
    "\n",
    "print(working_pop)"
   ]
  },
  {
   "cell_type": "code",
   "execution_count": 97,
   "metadata": {},
   "outputs": [
    {
     "data": {
      "text/html": [
       "<div>\n",
       "<style scoped>\n",
       "    .dataframe tbody tr th:only-of-type {\n",
       "        vertical-align: middle;\n",
       "    }\n",
       "\n",
       "    .dataframe tbody tr th {\n",
       "        vertical-align: top;\n",
       "    }\n",
       "\n",
       "    .dataframe thead th {\n",
       "        text-align: right;\n",
       "    }\n",
       "</style>\n",
       "<table border=\"1\" class=\"dataframe\">\n",
       "  <thead>\n",
       "    <tr style=\"text-align: right;\">\n",
       "      <th></th>\n",
       "      <th>variable</th>\n",
       "      <th>unit</th>\n",
       "      <th>year</th>\n",
       "      <th>value</th>\n",
       "      <th>working_population</th>\n",
       "      <th>population</th>\n",
       "    </tr>\n",
       "  </thead>\n",
       "  <tbody>\n",
       "    <tr>\n",
       "      <th>703</th>\n",
       "      <td>X</td>\n",
       "      <td>real</td>\n",
       "      <td>2024</td>\n",
       "      <td>1697515.0</td>\n",
       "      <td>3649206.0</td>\n",
       "      <td>5961249.0</td>\n",
       "    </tr>\n",
       "    <tr>\n",
       "      <th>704</th>\n",
       "      <td>G</td>\n",
       "      <td>real</td>\n",
       "      <td>2024</td>\n",
       "      <td>597071.0</td>\n",
       "      <td>3649206.0</td>\n",
       "      <td>5961249.0</td>\n",
       "    </tr>\n",
       "    <tr>\n",
       "      <th>705</th>\n",
       "      <td>G</td>\n",
       "      <td>nominal</td>\n",
       "      <td>2024</td>\n",
       "      <td>672154.0</td>\n",
       "      <td>3649206.0</td>\n",
       "      <td>5961249.0</td>\n",
       "    </tr>\n",
       "    <tr>\n",
       "      <th>706</th>\n",
       "      <td>I</td>\n",
       "      <td>real</td>\n",
       "      <td>2024</td>\n",
       "      <td>584627.0</td>\n",
       "      <td>3649206.0</td>\n",
       "      <td>5961249.0</td>\n",
       "    </tr>\n",
       "    <tr>\n",
       "      <th>707</th>\n",
       "      <td>I</td>\n",
       "      <td>nominal</td>\n",
       "      <td>2024</td>\n",
       "      <td>679226.0</td>\n",
       "      <td>3649206.0</td>\n",
       "      <td>5961249.0</td>\n",
       "    </tr>\n",
       "  </tbody>\n",
       "</table>\n",
       "</div>"
      ],
      "text/plain": [
       "    variable     unit  year      value  working_population  population\n",
       "703        X     real  2024  1697515.0           3649206.0   5961249.0\n",
       "704        G     real  2024   597071.0           3649206.0   5961249.0\n",
       "705        G  nominal  2024   672154.0           3649206.0   5961249.0\n",
       "706        I     real  2024   584627.0           3649206.0   5961249.0\n",
       "707        I  nominal  2024   679226.0           3649206.0   5961249.0"
      ]
     },
     "execution_count": 97,
     "metadata": {},
     "output_type": "execute_result"
    }
   ],
   "source": [
    "merged = pd.merge(nah1, working_pop, how='left', on=['year'])\n",
    "merged = pd.merge(merged, pop, how='left', on=['year'])\n",
    "merged.tail()"
   ]
  },
  {
   "cell_type": "markdown",
   "metadata": {},
   "source": [
    "### 2.3. <a id='toc2_3_'></a>[Split-apply-combine-plot](#toc0_)"
   ]
  },
  {
   "cell_type": "markdown",
   "metadata": {},
   "source": [
    "Ensure the following code for a **split-apply-combine-plot** can run."
   ]
  },
  {
   "cell_type": "code",
   "execution_count": 125,
   "metadata": {},
   "outputs": [
    {
     "ename": "SyntaxError",
     "evalue": "invalid syntax (3459166436.py, line 25)",
     "output_type": "error",
     "traceback": [
      "\u001b[1;36m  Cell \u001b[1;32mIn[125], line 25\u001b[1;36m\u001b[0m\n\u001b[1;33m    plot_2(nah1_true) \"nominal\"\u001b[0m\n\u001b[1;37m                      ^\u001b[0m\n\u001b[1;31mSyntaxError\u001b[0m\u001b[1;31m:\u001b[0m invalid syntax\n"
     ]
    }
   ],
   "source": [
    "# a. split\n",
    "nah1_true_grouped = nah1.groupby(['variable','unit'])\n",
    "nah1_true_grouped_first = nah1_true_grouped.value.first()\n",
    "nah1_true_grouped_first.name = 'first'\n",
    "\n",
    "# b. apply\n",
    "nah1_true = nah1.set_index(['variable','unit','year'])\n",
    "nah1_true = nah1_true.join(nah1_true_grouped_first,how='left',on=['variable','unit'])\n",
    "nah1_true = nah1_true.reset_index()\n",
    "\n",
    "# c. combine\n",
    "nah1_true['indexed'] = nah1_true['value']/nah1_true['first']\n",
    "\n",
    "# d. plot\n",
    "def plot(df,variable='indexed'):\n",
    "    df_indexed = df.set_index('year')\n",
    "    I = df_indexed.unit == 'real'\n",
    "    df_indexed[I].groupby(['variable'])[variable].plot(legend=True);\n",
    "\n",
    "def plot_2(df,variable='indexed'):\n",
    "    df_indexed = df.set_index('year')\n",
    "    I = df_indexed.unit == 'nominal'\n",
    "    df_indexed[I].groupby(['variable'])[variable].plot(legend=True);\n",
    "    \n",
    "plot_2(nah1_true) \"nominal\"\n",
    "plot(nah1_true) \"real\"\n",
    "\n"
   ]
  },
  {
   "cell_type": "markdown",
   "metadata": {},
   "source": [
    "**Question:** Implement the same split-apply-combine as above using `transform`."
   ]
  },
  {
   "cell_type": "code",
   "execution_count": null,
   "metadata": {},
   "outputs": [],
   "source": [
    "def first(x): # select the first element in a series\n",
    "    return x.iloc[0]\n",
    "\n",
    "# nah1_alt = nah1.copy()\n",
    "# grouped = nah1_alt.groupby(?)\n",
    "#nah1_alt[?] = ?.transform(lambda x: ?)\n",
    "#nah1_alt.head()"
   ]
  },
  {
   "cell_type": "code",
   "execution_count": null,
   "metadata": {},
   "outputs": [],
   "source": [
    "# plot(nah1_alt,variable='index_transform')"
   ]
  }
 ],
 "metadata": {
  "kernelspec": {
   "display_name": "base",
   "language": "python",
   "name": "python3"
  },
  "language_info": {
   "codemirror_mode": {
    "name": "ipython",
    "version": 3
   },
   "file_extension": ".py",
   "mimetype": "text/x-python",
   "name": "python",
   "nbconvert_exporter": "python",
   "pygments_lexer": "ipython3",
   "version": "3.13.5"
  },
  "toc-autonumbering": true
 },
 "nbformat": 4,
 "nbformat_minor": 4
}
